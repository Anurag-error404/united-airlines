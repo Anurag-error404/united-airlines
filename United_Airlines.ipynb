{
  "cells": [
    {
      "cell_type": "code",
      "execution_count": 1,
      "metadata": {
        "id": "Q0iPkPffRLxp"
      },
      "outputs": [],
      "source": [
        "import pandas as pd\n",
        "import numpy as np\n",
        "import sklearn as sc"
      ]
    },
    {
      "cell_type": "code",
      "execution_count": 2,
      "metadata": {
        "id": "R9BkKPU0R0Sh"
      },
      "outputs": [],
      "source": [
        "survey_data = pd.read_csv('Survey_data _Customer_comments.csv')\n",
        "statisfaction_data = pd.read_csv('Survey_data_Inflight_Satisfaction_Score.csv')\n",
        "inventory_data = pd.read_csv('Inflight_Service_Inventory_data.csv')\n",
        "pre_order_data = pd.read_csv('Inflight_service_pre_order_data.csv')"
      ]
    },
    {
      "cell_type": "code",
      "execution_count": 3,
      "metadata": {},
      "outputs": [
        {
          "name": "stdout",
          "output_type": "stream",
          "text": [
            "Satisfaction Data:\n",
            "<class 'pandas.core.frame.DataFrame'>\n",
            "RangeIndex: 47074 entries, 0 to 47073\n",
            "Data columns (total 31 columns):\n",
            " #   Column                            Non-Null Count  Dtype \n",
            "---  ------                            --------------  ----- \n",
            " 0   flight_number                     47074 non-null  int64 \n",
            " 1   origin_station_code               47074 non-null  object\n",
            " 2   destination_station_code          47074 non-null  object\n",
            " 3   record_locator                    47074 non-null  object\n",
            " 4   scheduled_departure_date          47074 non-null  object\n",
            " 5   question_text                     47074 non-null  object\n",
            " 6   score                             47074 non-null  object\n",
            " 7   satisfaction_type                 34963 non-null  object\n",
            " 8   driver_sub_group1                 47074 non-null  object\n",
            " 9   driver_sub_group2                 47074 non-null  object\n",
            " 10  arrival_delay_minutes             47074 non-null  int64 \n",
            " 11  arrival_delay_group               47074 non-null  object\n",
            " 12  cabin_code_desc                   47074 non-null  object\n",
            " 13  cabin_name                        27094 non-null  object\n",
            " 14  entity                            47071 non-null  object\n",
            " 15  number_of_legs                    47074 non-null  int64 \n",
            " 16  seat_factor_band                  47074 non-null  object\n",
            " 17  loyalty_program_level             35458 non-null  object\n",
            " 18  generation                        47074 non-null  object\n",
            " 19  fleet_type_description            47074 non-null  object\n",
            " 20  fleet_usage                       47074 non-null  object\n",
            " 21  equipment_type_code               47074 non-null  object\n",
            " 22  ua_uax                            47074 non-null  object\n",
            " 23  actual_flown_miles                47074 non-null  int64 \n",
            " 24  haul_type                         47074 non-null  object\n",
            " 25  departure_gate                    46977 non-null  object\n",
            " 26  arrival_gate                      46547 non-null  object\n",
            " 27  international_domestic_indicator  47074 non-null  object\n",
            " 28  response_group                    47074 non-null  object\n",
            " 29  media_provider                    45535 non-null  object\n",
            " 30  hub_spoke                         47074 non-null  object\n",
            "dtypes: int64(4), object(27)\n",
            "memory usage: 11.1+ MB\n",
            "None\n"
          ]
        }
      ],
      "source": [
        "print(\"Satisfaction Data:\")\n",
        "print(statisfaction_data.info())\n",
        "# print(\"\\nComments Data:\")\n",
        "# print(survey_data.info())\n",
        "# print(\"\\nInventory Data:\")\n",
        "# print(inventory_data.info())\n",
        "# print(\"\\nPreorder Data:\")\n",
        "# print(pre_order_data.info())"
      ]
    },
    {
      "cell_type": "code",
      "execution_count": 4,
      "metadata": {},
      "outputs": [],
      "source": [
        "statisfaction_data['satiscfaction_score'] = statisfaction_data['score'].apply(lambda x: x if x in ['1', '2', '3', '4', '5'] else None)\n",
        "statisfaction_data['food_type'] = statisfaction_data['score'].apply(lambda x: x if x not in ['1', '2', '3', '4', '5'] else None)\n"
      ]
    },
    {
      "cell_type": "code",
      "execution_count": 5,
      "metadata": {},
      "outputs": [],
      "source": [
        "\n",
        "# Group by the primary key (record_locator) and aggregate the columns using a custom function\n",
        "def custom_aggregation(group_df):\n",
        "    return pd.Series({\n",
        "        'satisfaction_score': group_df['satisfaction_score'].max(),\n",
        "        'food_type': group_df['food_type'].max()\n",
        "    })\n",
        "\n"
      ]
    },
    {
      "cell_type": "code",
      "execution_count": 6,
      "metadata": {},
      "outputs": [
        {
          "ename": "KeyError",
          "evalue": "'satisfaction_score'",
          "output_type": "error",
          "traceback": [
            "\u001b[1;31m---------------------------------------------------------------------------\u001b[0m",
            "\u001b[1;31mKeyError\u001b[0m                                  Traceback (most recent call last)",
            "File \u001b[1;32mc:\\Users\\ANURAG\\AppData\\Local\\Programs\\Python\\Python39\\lib\\site-packages\\pandas\\core\\indexes\\base.py:3629\u001b[0m, in \u001b[0;36mIndex.get_loc\u001b[1;34m(self, key, method, tolerance)\u001b[0m\n\u001b[0;32m   3628\u001b[0m \u001b[39mtry\u001b[39;00m:\n\u001b[1;32m-> 3629\u001b[0m     \u001b[39mreturn\u001b[39;00m \u001b[39mself\u001b[39;49m\u001b[39m.\u001b[39;49m_engine\u001b[39m.\u001b[39;49mget_loc(casted_key)\n\u001b[0;32m   3630\u001b[0m \u001b[39mexcept\u001b[39;00m \u001b[39mKeyError\u001b[39;00m \u001b[39mas\u001b[39;00m err:\n",
            "File \u001b[1;32mc:\\Users\\ANURAG\\AppData\\Local\\Programs\\Python\\Python39\\lib\\site-packages\\pandas\\_libs\\index.pyx:136\u001b[0m, in \u001b[0;36mpandas._libs.index.IndexEngine.get_loc\u001b[1;34m()\u001b[0m\n",
            "File \u001b[1;32mc:\\Users\\ANURAG\\AppData\\Local\\Programs\\Python\\Python39\\lib\\site-packages\\pandas\\_libs\\index.pyx:163\u001b[0m, in \u001b[0;36mpandas._libs.index.IndexEngine.get_loc\u001b[1;34m()\u001b[0m\n",
            "File \u001b[1;32mpandas\\_libs\\hashtable_class_helper.pxi:5198\u001b[0m, in \u001b[0;36mpandas._libs.hashtable.PyObjectHashTable.get_item\u001b[1;34m()\u001b[0m\n",
            "File \u001b[1;32mpandas\\_libs\\hashtable_class_helper.pxi:5206\u001b[0m, in \u001b[0;36mpandas._libs.hashtable.PyObjectHashTable.get_item\u001b[1;34m()\u001b[0m\n",
            "\u001b[1;31mKeyError\u001b[0m: 'satisfaction_score'",
            "\nThe above exception was the direct cause of the following exception:\n",
            "\u001b[1;31mKeyError\u001b[0m                                  Traceback (most recent call last)",
            "\u001b[1;32mc:\\Users\\ANURAG\\Downloads\\Datasets (1)e7e7eed\\Datasets\\United_Airlines.ipynb Cell 6\u001b[0m in \u001b[0;36m2\n\u001b[0;32m      <a href='vscode-notebook-cell:/c%3A/Users/ANURAG/Downloads/Datasets%20%281%29e7e7eed/Datasets/United_Airlines.ipynb#W5sZmlsZQ%3D%3D?line=0'>1</a>\u001b[0m \u001b[39m# Group by the composite primary key columns\u001b[39;00m\n\u001b[1;32m----> <a href='vscode-notebook-cell:/c%3A/Users/ANURAG/Downloads/Datasets%20%281%29e7e7eed/Datasets/United_Airlines.ipynb#W5sZmlsZQ%3D%3D?line=1'>2</a>\u001b[0m grouped_df \u001b[39m=\u001b[39m statisfaction_data\u001b[39m.\u001b[39;49mgroupby([\u001b[39m'\u001b[39;49m\u001b[39mflight_number\u001b[39;49m\u001b[39m'\u001b[39;49m, \u001b[39m'\u001b[39;49m\u001b[39morigin_station_code\u001b[39;49m\u001b[39m'\u001b[39;49m, \u001b[39m'\u001b[39;49m\u001b[39mdestination_station_code\u001b[39;49m\u001b[39m'\u001b[39;49m, \u001b[39m'\u001b[39;49m\u001b[39mrecord_locator\u001b[39;49m\u001b[39m'\u001b[39;49m], as_index\u001b[39m=\u001b[39;49m\u001b[39mFalse\u001b[39;49;00m)\u001b[39m.\u001b[39;49mapply(custom_aggregation)\n",
            "File \u001b[1;32mc:\\Users\\ANURAG\\AppData\\Local\\Programs\\Python\\Python39\\lib\\site-packages\\pandas\\core\\groupby\\groupby.py:1423\u001b[0m, in \u001b[0;36mGroupBy.apply\u001b[1;34m(self, func, *args, **kwargs)\u001b[0m\n\u001b[0;32m   1421\u001b[0m \u001b[39mwith\u001b[39;00m option_context(\u001b[39m\"\u001b[39m\u001b[39mmode.chained_assignment\u001b[39m\u001b[39m\"\u001b[39m, \u001b[39mNone\u001b[39;00m):\n\u001b[0;32m   1422\u001b[0m     \u001b[39mtry\u001b[39;00m:\n\u001b[1;32m-> 1423\u001b[0m         result \u001b[39m=\u001b[39m \u001b[39mself\u001b[39;49m\u001b[39m.\u001b[39;49m_python_apply_general(f, \u001b[39mself\u001b[39;49m\u001b[39m.\u001b[39;49m_selected_obj)\n\u001b[0;32m   1424\u001b[0m     \u001b[39mexcept\u001b[39;00m \u001b[39mTypeError\u001b[39;00m:\n\u001b[0;32m   1425\u001b[0m         \u001b[39m# gh-20949\u001b[39;00m\n\u001b[0;32m   1426\u001b[0m         \u001b[39m# try again, with .apply acting as a filtering\u001b[39;00m\n\u001b[1;32m   (...)\u001b[0m\n\u001b[0;32m   1430\u001b[0m         \u001b[39m# fails on *some* columns, e.g. a numeric operation\u001b[39;00m\n\u001b[0;32m   1431\u001b[0m         \u001b[39m# on a string grouper column\u001b[39;00m\n\u001b[0;32m   1433\u001b[0m         \u001b[39mwith\u001b[39;00m \u001b[39mself\u001b[39m\u001b[39m.\u001b[39m_group_selection_context():\n",
            "File \u001b[1;32mc:\\Users\\ANURAG\\AppData\\Local\\Programs\\Python\\Python39\\lib\\site-packages\\pandas\\core\\groupby\\groupby.py:1464\u001b[0m, in \u001b[0;36mGroupBy._python_apply_general\u001b[1;34m(self, f, data, not_indexed_same)\u001b[0m\n\u001b[0;32m   1438\u001b[0m \u001b[39m@final\u001b[39m\n\u001b[0;32m   1439\u001b[0m \u001b[39mdef\u001b[39;00m \u001b[39m_python_apply_general\u001b[39m(\n\u001b[0;32m   1440\u001b[0m     \u001b[39mself\u001b[39m,\n\u001b[1;32m   (...)\u001b[0m\n\u001b[0;32m   1443\u001b[0m     not_indexed_same: \u001b[39mbool\u001b[39m \u001b[39m|\u001b[39m \u001b[39mNone\u001b[39;00m \u001b[39m=\u001b[39m \u001b[39mNone\u001b[39;00m,\n\u001b[0;32m   1444\u001b[0m ) \u001b[39m-\u001b[39m\u001b[39m>\u001b[39m DataFrame \u001b[39m|\u001b[39m Series:\n\u001b[0;32m   1445\u001b[0m     \u001b[39m\"\"\"\u001b[39;00m\n\u001b[0;32m   1446\u001b[0m \u001b[39m    Apply function f in python space\u001b[39;00m\n\u001b[0;32m   1447\u001b[0m \n\u001b[1;32m   (...)\u001b[0m\n\u001b[0;32m   1462\u001b[0m \u001b[39m        data after applying f\u001b[39;00m\n\u001b[0;32m   1463\u001b[0m \u001b[39m    \"\"\"\u001b[39;00m\n\u001b[1;32m-> 1464\u001b[0m     values, mutated \u001b[39m=\u001b[39m \u001b[39mself\u001b[39;49m\u001b[39m.\u001b[39;49mgrouper\u001b[39m.\u001b[39;49mapply(f, data, \u001b[39mself\u001b[39;49m\u001b[39m.\u001b[39;49maxis)\n\u001b[0;32m   1466\u001b[0m     \u001b[39mif\u001b[39;00m not_indexed_same \u001b[39mis\u001b[39;00m \u001b[39mNone\u001b[39;00m:\n\u001b[0;32m   1467\u001b[0m         not_indexed_same \u001b[39m=\u001b[39m mutated \u001b[39mor\u001b[39;00m \u001b[39mself\u001b[39m\u001b[39m.\u001b[39mmutated\n",
            "File \u001b[1;32mc:\\Users\\ANURAG\\AppData\\Local\\Programs\\Python\\Python39\\lib\\site-packages\\pandas\\core\\groupby\\ops.py:761\u001b[0m, in \u001b[0;36mBaseGrouper.apply\u001b[1;34m(self, f, data, axis)\u001b[0m\n\u001b[0;32m    759\u001b[0m \u001b[39m# group might be modified\u001b[39;00m\n\u001b[0;32m    760\u001b[0m group_axes \u001b[39m=\u001b[39m group\u001b[39m.\u001b[39maxes\n\u001b[1;32m--> 761\u001b[0m res \u001b[39m=\u001b[39m f(group)\n\u001b[0;32m    762\u001b[0m \u001b[39mif\u001b[39;00m \u001b[39mnot\u001b[39;00m mutated \u001b[39mand\u001b[39;00m \u001b[39mnot\u001b[39;00m _is_indexed_like(res, group_axes, axis):\n\u001b[0;32m    763\u001b[0m     mutated \u001b[39m=\u001b[39m \u001b[39mTrue\u001b[39;00m\n",
            "\u001b[1;32mc:\\Users\\ANURAG\\Downloads\\Datasets (1)e7e7eed\\Datasets\\United_Airlines.ipynb Cell 6\u001b[0m in \u001b[0;36m4\n\u001b[0;32m      <a href='vscode-notebook-cell:/c%3A/Users/ANURAG/Downloads/Datasets%20%281%29e7e7eed/Datasets/United_Airlines.ipynb#W5sZmlsZQ%3D%3D?line=1'>2</a>\u001b[0m \u001b[39mdef\u001b[39;00m \u001b[39mcustom_aggregation\u001b[39m(group_df):\n\u001b[0;32m      <a href='vscode-notebook-cell:/c%3A/Users/ANURAG/Downloads/Datasets%20%281%29e7e7eed/Datasets/United_Airlines.ipynb#W5sZmlsZQ%3D%3D?line=2'>3</a>\u001b[0m     \u001b[39mreturn\u001b[39;00m pd\u001b[39m.\u001b[39mSeries({\n\u001b[1;32m----> <a href='vscode-notebook-cell:/c%3A/Users/ANURAG/Downloads/Datasets%20%281%29e7e7eed/Datasets/United_Airlines.ipynb#W5sZmlsZQ%3D%3D?line=3'>4</a>\u001b[0m         \u001b[39m'\u001b[39m\u001b[39msatisfaction_score\u001b[39m\u001b[39m'\u001b[39m: group_df[\u001b[39m'\u001b[39;49m\u001b[39msatisfaction_score\u001b[39;49m\u001b[39m'\u001b[39;49m]\u001b[39m.\u001b[39mmax(),\n\u001b[0;32m      <a href='vscode-notebook-cell:/c%3A/Users/ANURAG/Downloads/Datasets%20%281%29e7e7eed/Datasets/United_Airlines.ipynb#W5sZmlsZQ%3D%3D?line=4'>5</a>\u001b[0m         \u001b[39m'\u001b[39m\u001b[39mfood_type\u001b[39m\u001b[39m'\u001b[39m: group_df[\u001b[39m'\u001b[39m\u001b[39mfood_type\u001b[39m\u001b[39m'\u001b[39m]\u001b[39m.\u001b[39mmax()\n\u001b[0;32m      <a href='vscode-notebook-cell:/c%3A/Users/ANURAG/Downloads/Datasets%20%281%29e7e7eed/Datasets/United_Airlines.ipynb#W5sZmlsZQ%3D%3D?line=5'>6</a>\u001b[0m     })\n",
            "File \u001b[1;32mc:\\Users\\ANURAG\\AppData\\Local\\Programs\\Python\\Python39\\lib\\site-packages\\pandas\\core\\frame.py:3505\u001b[0m, in \u001b[0;36mDataFrame.__getitem__\u001b[1;34m(self, key)\u001b[0m\n\u001b[0;32m   3503\u001b[0m \u001b[39mif\u001b[39;00m \u001b[39mself\u001b[39m\u001b[39m.\u001b[39mcolumns\u001b[39m.\u001b[39mnlevels \u001b[39m>\u001b[39m \u001b[39m1\u001b[39m:\n\u001b[0;32m   3504\u001b[0m     \u001b[39mreturn\u001b[39;00m \u001b[39mself\u001b[39m\u001b[39m.\u001b[39m_getitem_multilevel(key)\n\u001b[1;32m-> 3505\u001b[0m indexer \u001b[39m=\u001b[39m \u001b[39mself\u001b[39;49m\u001b[39m.\u001b[39;49mcolumns\u001b[39m.\u001b[39;49mget_loc(key)\n\u001b[0;32m   3506\u001b[0m \u001b[39mif\u001b[39;00m is_integer(indexer):\n\u001b[0;32m   3507\u001b[0m     indexer \u001b[39m=\u001b[39m [indexer]\n",
            "File \u001b[1;32mc:\\Users\\ANURAG\\AppData\\Local\\Programs\\Python\\Python39\\lib\\site-packages\\pandas\\core\\indexes\\base.py:3631\u001b[0m, in \u001b[0;36mIndex.get_loc\u001b[1;34m(self, key, method, tolerance)\u001b[0m\n\u001b[0;32m   3629\u001b[0m     \u001b[39mreturn\u001b[39;00m \u001b[39mself\u001b[39m\u001b[39m.\u001b[39m_engine\u001b[39m.\u001b[39mget_loc(casted_key)\n\u001b[0;32m   3630\u001b[0m \u001b[39mexcept\u001b[39;00m \u001b[39mKeyError\u001b[39;00m \u001b[39mas\u001b[39;00m err:\n\u001b[1;32m-> 3631\u001b[0m     \u001b[39mraise\u001b[39;00m \u001b[39mKeyError\u001b[39;00m(key) \u001b[39mfrom\u001b[39;00m \u001b[39merr\u001b[39;00m\n\u001b[0;32m   3632\u001b[0m \u001b[39mexcept\u001b[39;00m \u001b[39mTypeError\u001b[39;00m:\n\u001b[0;32m   3633\u001b[0m     \u001b[39m# If we have a listlike key, _check_indexing_error will raise\u001b[39;00m\n\u001b[0;32m   3634\u001b[0m     \u001b[39m#  InvalidIndexError. Otherwise we fall through and re-raise\u001b[39;00m\n\u001b[0;32m   3635\u001b[0m     \u001b[39m#  the TypeError.\u001b[39;00m\n\u001b[0;32m   3636\u001b[0m     \u001b[39mself\u001b[39m\u001b[39m.\u001b[39m_check_indexing_error(key)\n",
            "\u001b[1;31mKeyError\u001b[0m: 'satisfaction_score'"
          ]
        }
      ],
      "source": [
        "# Group by the composite primary key columns\n",
        "grouped_df = statisfaction_data.groupby(['flight_number', 'origin_station_code', 'destination_station_code', 'record_locator'], as_index=False).apply(custom_aggregation)\n",
        "\n",
        "# Now 'grouped_df' contains a single row per composite primary key with merged data\n",
        "\n",
        "# Merge 'grouped_df' with the original DataFrame based on the composite primary key columns\n",
        "# merged_df = pd.merge(statisfaction_data, grouped_df, on=['flight_number', 'origin_station_code', 'destination_station_code', 'record_locator'])\n"
      ]
    }
  ],
  "metadata": {
    "colab": {
      "provenance": []
    },
    "kernelspec": {
      "display_name": "Python 3",
      "name": "python3"
    },
    "language_info": {
      "codemirror_mode": {
        "name": "ipython",
        "version": 3
      },
      "file_extension": ".py",
      "mimetype": "text/x-python",
      "name": "python",
      "nbconvert_exporter": "python",
      "pygments_lexer": "ipython3",
      "version": "3.9.2"
    }
  },
  "nbformat": 4,
  "nbformat_minor": 0
}
